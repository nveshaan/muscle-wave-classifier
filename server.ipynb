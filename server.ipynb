{
 "cells": [
  {
   "cell_type": "code",
   "execution_count": null,
   "metadata": {},
   "outputs": [],
   "source": [
    "import serial\n",
    "import numpy as np\n",
    "import time\n",
    "import keras.models as models\n",
    "import socket"
   ]
  },
  {
   "cell_type": "code",
   "execution_count": null,
   "metadata": {},
   "outputs": [],
   "source": [
    "serialCom = serial.Serial('COM6', 115200) # check your serial port\n",
    "serialCom.setDTR(False)\n",
    "time.sleep(1)\n",
    "serialCom.flushInput()\n",
    "serialCom.setDTR(True)"
   ]
  },
  {
   "cell_type": "code",
   "execution_count": null,
   "metadata": {},
   "outputs": [],
   "source": [
    "model = models.load_model('model.h5')"
   ]
  },
  {
   "cell_type": "code",
   "execution_count": null,
   "metadata": {},
   "outputs": [],
   "source": [
    "def fist(sample_length=256):\n",
    "    X = []\n",
    "    for i in range(sample_length):\n",
    "        data = serialCom.readline()\n",
    "        decoded_data = data.decode('utf-8').strip()\n",
    "        X.append(decoded_data)\n",
    "    X = np.array(X).reshape(1, sample_length)\n",
    "    try:\n",
    "        return model.predict(X.astype(float))\n",
    "    except:\n",
    "        return 0"
   ]
  },
  {
   "cell_type": "code",
   "execution_count": null,
   "metadata": {},
   "outputs": [],
   "source": [
    "ESP_IP = '192.168.x.x' # Replace with the IP address of your ESP8266\n",
    "PORT = 8888\n",
    "\n",
    "def movement(state):\n",
    "    try:\n",
    "        s = socket.socket(socket.AF_INET, socket.SOCK_STREAM)\n",
    "\n",
    "        s.connect((ESP_IP, PORT))      \n",
    "        \n",
    "        s.sendall((state + '\\n').encode('utf-8'))\n",
    "        print(f\"Sent '{state}' fist state.\")\n",
    "\n",
    "        s.close()\n",
    "\n",
    "    except Exception as e:\n",
    "        print(f\"Failed to send data: {e}\")\n",
    "\n",
    "def main():\n",
    "    while True:\n",
    "\n",
    "        if fist()>0.8:\n",
    "            movement(\"forward\")\n",
    "        else:\n",
    "            movement(\"stop\")\n",
    "\n",
    "if __name__ == \"__main__\":\n",
    "    main()\n"
   ]
  }
 ],
 "metadata": {
  "kernelspec": {
   "display_name": "Python 3",
   "language": "python",
   "name": "python3"
  },
  "language_info": {
   "codemirror_mode": {
    "name": "ipython",
    "version": 3
   },
   "file_extension": ".py",
   "mimetype": "text/x-python",
   "name": "python",
   "nbconvert_exporter": "python",
   "pygments_lexer": "ipython3",
   "version": "3.12.4"
  }
 },
 "nbformat": 4,
 "nbformat_minor": 2
}
