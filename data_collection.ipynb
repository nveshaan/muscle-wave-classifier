{
 "cells": [
  {
   "cell_type": "code",
   "execution_count": null,
   "metadata": {},
   "outputs": [],
   "source": [
    "subject = int(input(\"Enter your index: \"))"
   ]
  },
  {
   "cell_type": "code",
   "execution_count": null,
   "metadata": {},
   "outputs": [],
   "source": [
    "import winsound\n",
    "import serial\n",
    "import numpy as np\n",
    "import time"
   ]
  },
  {
   "cell_type": "code",
   "execution_count": null,
   "metadata": {},
   "outputs": [],
   "source": [
    "serialCom = serial.Serial('COM6', 115200) # check your serial port\n",
    "serialCom.setDTR(False)\n",
    "time.sleep(1)\n",
    "serialCom.flushInput()\n",
    "serialCom.setDTR(True)"
   ]
  },
  {
   "cell_type": "code",
   "execution_count": null,
   "metadata": {},
   "outputs": [],
   "source": [
    "total_samples = 1000\n",
    "sample_length = 256\n",
    "fist_state = 0\n",
    "state_change = 20"
   ]
  },
  {
   "cell_type": "code",
   "execution_count": null,
   "metadata": {},
   "outputs": [],
   "source": [
    "tempx = []\n",
    "X = []\n",
    "Y = []"
   ]
  },
  {
   "cell_type": "code",
   "execution_count": null,
   "metadata": {},
   "outputs": [],
   "source": [
    "print(\"Open your fist\")\n",
    "\n",
    "for k in range(total_samples):\n",
    "    tempx = []\n",
    "    if state_change == 0:\n",
    "        if fist_state == 0:\n",
    "            fist_state = 1\n",
    "            state_change = 20\n",
    "            print(\"Close your fist\")\n",
    "            winsound.Beep(600, 1000)\n",
    "            time.sleep(2)\n",
    "        else:\n",
    "            fist_state = 0\n",
    "            state_change = 20\n",
    "            print(\"Open your fist\")\n",
    "            winsound.Beep(600, 1000)\n",
    "            time.sleep(2)\n",
    "    \n",
    "    try:\n",
    "        for i in range(sample_length):\n",
    "            data = serialCom.readline()\n",
    "            decoded_data = data.decode('utf-8').strip()\n",
    "            tempx.append(decoded_data)\n",
    "        X.append(tempx)\n",
    "        Y.append(fist_state)\n",
    "        state_change = state_change - 1\n",
    "        \n",
    "    except:\n",
    "        print(\"Signal lost\")\n",
    "\n",
    "print(\"Recording completed. Thank you!\")"
   ]
  },
  {
   "cell_type": "code",
   "execution_count": null,
   "metadata": {},
   "outputs": [],
   "source": [
    "X = np.array(X)\n",
    "X = X.astype(float)\n",
    "Y = np.array(Y)\n",
    "print(X.shape)\n",
    "print(Y.shape)\n",
    "\n",
    "np.save(f'X{subject}.npy', X)\n",
    "np.save(f'Y{subject}.npy', Y)"
   ]
  }
 ],
 "metadata": {
  "kernelspec": {
   "display_name": "Python 3",
   "language": "python",
   "name": "python3"
  },
  "language_info": {
   "codemirror_mode": {
    "name": "ipython",
    "version": 3
   },
   "file_extension": ".py",
   "mimetype": "text/x-python",
   "name": "python",
   "nbconvert_exporter": "python",
   "pygments_lexer": "ipython3",
   "version": "3.12.4"
  }
 },
 "nbformat": 4,
 "nbformat_minor": 2
}
